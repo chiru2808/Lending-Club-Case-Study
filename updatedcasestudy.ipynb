{
 "cells": [
  {
   "cell_type": "markdown",
   "id": "33b3c907",
   "metadata": {},
   "source": [
    "# Project - Lending Club Case Study"
   ]
  },
  {
   "cell_type": "markdown",
   "id": "6d964664",
   "metadata": {},
   "source": [
    "# "
   ]
  },
  {
   "cell_type": "markdown",
   "id": "2a72040b",
   "metadata": {},
   "source": [
    "## Data Processing"
   ]
  },
  {
   "cell_type": "code",
   "execution_count": 1,
   "id": "0210f2eb",
   "metadata": {},
   "outputs": [],
   "source": [
    "import pandas as pd\n",
    "import numpy as np\n",
    "import matplotlib.pyplot as plt\n",
    "import seaborn as sns\n"
   ]
  },
  {
   "cell_type": "code",
   "execution_count": 2,
   "id": "633f7054",
   "metadata": {},
   "outputs": [],
   "source": [
    "#reading The Dataset\n",
    "#since getting an error with loading column 47, converting the data to string type \n",
    "\n",
    "lending_set = pd.read_csv(\"C:\\\\Users\\\\chira\\\\Downloads\\\\loan\\\\loan.csv\", dtype={\"next_pymnt_d\":\"str\"})"
   ]
  },
  {
   "cell_type": "code",
   "execution_count": 3,
   "id": "b136bf69",
   "metadata": {},
   "outputs": [
    {
     "data": {
      "text/html": [
       "<div>\n",
       "<style scoped>\n",
       "    .dataframe tbody tr th:only-of-type {\n",
       "        vertical-align: middle;\n",
       "    }\n",
       "\n",
       "    .dataframe tbody tr th {\n",
       "        vertical-align: top;\n",
       "    }\n",
       "\n",
       "    .dataframe thead th {\n",
       "        text-align: right;\n",
       "    }\n",
       "</style>\n",
       "<table border=\"1\" class=\"dataframe\">\n",
       "  <thead>\n",
       "    <tr style=\"text-align: right;\">\n",
       "      <th></th>\n",
       "      <th>id</th>\n",
       "      <th>member_id</th>\n",
       "      <th>loan_amnt</th>\n",
       "      <th>funded_amnt</th>\n",
       "      <th>funded_amnt_inv</th>\n",
       "      <th>term</th>\n",
       "      <th>int_rate</th>\n",
       "      <th>installment</th>\n",
       "      <th>grade</th>\n",
       "      <th>sub_grade</th>\n",
       "      <th>...</th>\n",
       "      <th>num_tl_90g_dpd_24m</th>\n",
       "      <th>num_tl_op_past_12m</th>\n",
       "      <th>pct_tl_nvr_dlq</th>\n",
       "      <th>percent_bc_gt_75</th>\n",
       "      <th>pub_rec_bankruptcies</th>\n",
       "      <th>tax_liens</th>\n",
       "      <th>tot_hi_cred_lim</th>\n",
       "      <th>total_bal_ex_mort</th>\n",
       "      <th>total_bc_limit</th>\n",
       "      <th>total_il_high_credit_limit</th>\n",
       "    </tr>\n",
       "  </thead>\n",
       "  <tbody>\n",
       "    <tr>\n",
       "      <th>0</th>\n",
       "      <td>1077501</td>\n",
       "      <td>1296599</td>\n",
       "      <td>5000</td>\n",
       "      <td>5000</td>\n",
       "      <td>4975.0</td>\n",
       "      <td>36 months</td>\n",
       "      <td>10.65%</td>\n",
       "      <td>162.87</td>\n",
       "      <td>B</td>\n",
       "      <td>B2</td>\n",
       "      <td>...</td>\n",
       "      <td>NaN</td>\n",
       "      <td>NaN</td>\n",
       "      <td>NaN</td>\n",
       "      <td>NaN</td>\n",
       "      <td>0.0</td>\n",
       "      <td>0.0</td>\n",
       "      <td>NaN</td>\n",
       "      <td>NaN</td>\n",
       "      <td>NaN</td>\n",
       "      <td>NaN</td>\n",
       "    </tr>\n",
       "    <tr>\n",
       "      <th>1</th>\n",
       "      <td>1077430</td>\n",
       "      <td>1314167</td>\n",
       "      <td>2500</td>\n",
       "      <td>2500</td>\n",
       "      <td>2500.0</td>\n",
       "      <td>60 months</td>\n",
       "      <td>15.27%</td>\n",
       "      <td>59.83</td>\n",
       "      <td>C</td>\n",
       "      <td>C4</td>\n",
       "      <td>...</td>\n",
       "      <td>NaN</td>\n",
       "      <td>NaN</td>\n",
       "      <td>NaN</td>\n",
       "      <td>NaN</td>\n",
       "      <td>0.0</td>\n",
       "      <td>0.0</td>\n",
       "      <td>NaN</td>\n",
       "      <td>NaN</td>\n",
       "      <td>NaN</td>\n",
       "      <td>NaN</td>\n",
       "    </tr>\n",
       "    <tr>\n",
       "      <th>2</th>\n",
       "      <td>1077175</td>\n",
       "      <td>1313524</td>\n",
       "      <td>2400</td>\n",
       "      <td>2400</td>\n",
       "      <td>2400.0</td>\n",
       "      <td>36 months</td>\n",
       "      <td>15.96%</td>\n",
       "      <td>84.33</td>\n",
       "      <td>C</td>\n",
       "      <td>C5</td>\n",
       "      <td>...</td>\n",
       "      <td>NaN</td>\n",
       "      <td>NaN</td>\n",
       "      <td>NaN</td>\n",
       "      <td>NaN</td>\n",
       "      <td>0.0</td>\n",
       "      <td>0.0</td>\n",
       "      <td>NaN</td>\n",
       "      <td>NaN</td>\n",
       "      <td>NaN</td>\n",
       "      <td>NaN</td>\n",
       "    </tr>\n",
       "    <tr>\n",
       "      <th>3</th>\n",
       "      <td>1076863</td>\n",
       "      <td>1277178</td>\n",
       "      <td>10000</td>\n",
       "      <td>10000</td>\n",
       "      <td>10000.0</td>\n",
       "      <td>36 months</td>\n",
       "      <td>13.49%</td>\n",
       "      <td>339.31</td>\n",
       "      <td>C</td>\n",
       "      <td>C1</td>\n",
       "      <td>...</td>\n",
       "      <td>NaN</td>\n",
       "      <td>NaN</td>\n",
       "      <td>NaN</td>\n",
       "      <td>NaN</td>\n",
       "      <td>0.0</td>\n",
       "      <td>0.0</td>\n",
       "      <td>NaN</td>\n",
       "      <td>NaN</td>\n",
       "      <td>NaN</td>\n",
       "      <td>NaN</td>\n",
       "    </tr>\n",
       "    <tr>\n",
       "      <th>4</th>\n",
       "      <td>1075358</td>\n",
       "      <td>1311748</td>\n",
       "      <td>3000</td>\n",
       "      <td>3000</td>\n",
       "      <td>3000.0</td>\n",
       "      <td>60 months</td>\n",
       "      <td>12.69%</td>\n",
       "      <td>67.79</td>\n",
       "      <td>B</td>\n",
       "      <td>B5</td>\n",
       "      <td>...</td>\n",
       "      <td>NaN</td>\n",
       "      <td>NaN</td>\n",
       "      <td>NaN</td>\n",
       "      <td>NaN</td>\n",
       "      <td>0.0</td>\n",
       "      <td>0.0</td>\n",
       "      <td>NaN</td>\n",
       "      <td>NaN</td>\n",
       "      <td>NaN</td>\n",
       "      <td>NaN</td>\n",
       "    </tr>\n",
       "  </tbody>\n",
       "</table>\n",
       "<p>5 rows × 111 columns</p>\n",
       "</div>"
      ],
      "text/plain": [
       "        id  member_id  loan_amnt  funded_amnt  funded_amnt_inv        term  \\\n",
       "0  1077501    1296599       5000         5000           4975.0   36 months   \n",
       "1  1077430    1314167       2500         2500           2500.0   60 months   \n",
       "2  1077175    1313524       2400         2400           2400.0   36 months   \n",
       "3  1076863    1277178      10000        10000          10000.0   36 months   \n",
       "4  1075358    1311748       3000         3000           3000.0   60 months   \n",
       "\n",
       "  int_rate  installment grade sub_grade  ... num_tl_90g_dpd_24m  \\\n",
       "0   10.65%       162.87     B        B2  ...                NaN   \n",
       "1   15.27%        59.83     C        C4  ...                NaN   \n",
       "2   15.96%        84.33     C        C5  ...                NaN   \n",
       "3   13.49%       339.31     C        C1  ...                NaN   \n",
       "4   12.69%        67.79     B        B5  ...                NaN   \n",
       "\n",
       "  num_tl_op_past_12m pct_tl_nvr_dlq  percent_bc_gt_75 pub_rec_bankruptcies  \\\n",
       "0                NaN            NaN               NaN                  0.0   \n",
       "1                NaN            NaN               NaN                  0.0   \n",
       "2                NaN            NaN               NaN                  0.0   \n",
       "3                NaN            NaN               NaN                  0.0   \n",
       "4                NaN            NaN               NaN                  0.0   \n",
       "\n",
       "  tax_liens tot_hi_cred_lim total_bal_ex_mort total_bc_limit  \\\n",
       "0       0.0             NaN               NaN            NaN   \n",
       "1       0.0             NaN               NaN            NaN   \n",
       "2       0.0             NaN               NaN            NaN   \n",
       "3       0.0             NaN               NaN            NaN   \n",
       "4       0.0             NaN               NaN            NaN   \n",
       "\n",
       "  total_il_high_credit_limit  \n",
       "0                        NaN  \n",
       "1                        NaN  \n",
       "2                        NaN  \n",
       "3                        NaN  \n",
       "4                        NaN  \n",
       "\n",
       "[5 rows x 111 columns]"
      ]
     },
     "execution_count": 3,
     "metadata": {},
     "output_type": "execute_result"
    }
   ],
   "source": [
    "#printing the dataset to check the columns and their vlaues\n",
    "\n",
    "lending_set.head()"
   ]
  },
  {
   "cell_type": "code",
   "execution_count": 4,
   "id": "ea49827c",
   "metadata": {},
   "outputs": [
    {
     "name": "stdout",
     "output_type": "stream",
     "text": [
      "Size of original Dataset:  (39717, 111)\n"
     ]
    }
   ],
   "source": [
    "# checking shape of the dataset\n",
    "\n",
    "print(\"Size of original Dataset: \",lending_set.shape)"
   ]
  },
  {
   "cell_type": "code",
   "execution_count": 5,
   "id": "3c6986bb",
   "metadata": {},
   "outputs": [
    {
     "name": "stdout",
     "output_type": "stream",
     "text": [
      "                                0\n",
      "id                          39717\n",
      "member_id                   39717\n",
      "loan_amnt                     885\n",
      "funded_amnt                  1041\n",
      "funded_amnt_inv              8205\n",
      "...                           ...\n",
      "tax_liens                       1\n",
      "tot_hi_cred_lim                 0\n",
      "total_bal_ex_mort               0\n",
      "total_bc_limit                  0\n",
      "total_il_high_credit_limit      0\n",
      "\n",
      "[111 rows x 1 columns]\n"
     ]
    }
   ],
   "source": [
    "#checking the number of unique values in each column of the dataset\n",
    "#converting the unique_values count of each column to a data frame\n",
    "\n",
    "unique_values = lending_set.nunique(axis=0).to_frame()\n",
    "print(unique_values)"
   ]
  },
  {
   "cell_type": "code",
   "execution_count": 6,
   "id": "e3784d69",
   "metadata": {},
   "outputs": [
    {
     "name": "stdout",
     "output_type": "stream",
     "text": [
      "Lending Case Study Dataset-1 size:  (39717, 48)\n"
     ]
    }
   ],
   "source": [
    "#converting the unique_values count of each column to a data frame\n",
    "#saving the list of columns with more than one unique values as \"filter1\"\n",
    "#Since the columns that have all same value or no values are not needed for analysis, applying \"filter1\" on the dataset\n",
    "#Saving the Dataset as Lending_set1\n",
    "#and finally checking the dataset size\n",
    "\n",
    "unique_value1 = unique_values[unique_values[0]>1]\n",
    "filter1 = list(unique_value1.index)\n",
    "lending_set1=lending_set.filter(filter1)\n",
    "print(\"Lending Case Study Dataset-1 size: \", lending_set1.shape)"
   ]
  },
  {
   "cell_type": "markdown",
   "id": "f2fc1907",
   "metadata": {},
   "source": [
    "## Data Cleaning"
   ]
  },
  {
   "cell_type": "code",
   "execution_count": 7,
   "id": "ffee3ae0",
   "metadata": {},
   "outputs": [],
   "source": [
    "# dropping columns [\"url\", \"desc\", \"zip_code\", \"emp_title\",\"title\"]\n",
    "# because the above given columns are not infering any information related to loan repayments\n",
    "# zip_code infomation is not fully provided, so dropped\n",
    "\n",
    "lending_set1= lending_set1.drop(columns=[\"url\", \"desc\", \"zip_code\", \"emp_title\",\"title\"])"
   ]
  },
  {
   "cell_type": "code",
   "execution_count": 8,
   "id": "84ed796c",
   "metadata": {},
   "outputs": [
    {
     "name": "stdout",
     "output_type": "stream",
     "text": [
      "shape of the lending_set1: (39717, 43)\n"
     ]
    },
    {
     "data": {
      "text/plain": [
       "id                           int64\n",
       "member_id                    int64\n",
       "loan_amnt                    int64\n",
       "funded_amnt                  int64\n",
       "funded_amnt_inv            float64\n",
       "term                        object\n",
       "int_rate                    object\n",
       "installment                float64\n",
       "grade                       object\n",
       "sub_grade                   object\n",
       "emp_length                  object\n",
       "home_ownership              object\n",
       "annual_inc                 float64\n",
       "verification_status         object\n",
       "issue_d                     object\n",
       "loan_status                 object\n",
       "purpose                     object\n",
       "addr_state                  object\n",
       "dti                        float64\n",
       "delinq_2yrs                  int64\n",
       "earliest_cr_line            object\n",
       "inq_last_6mths               int64\n",
       "mths_since_last_delinq     float64\n",
       "mths_since_last_record     float64\n",
       "open_acc                     int64\n",
       "pub_rec                      int64\n",
       "revol_bal                    int64\n",
       "revol_util                  object\n",
       "total_acc                    int64\n",
       "out_prncp                  float64\n",
       "out_prncp_inv              float64\n",
       "total_pymnt                float64\n",
       "total_pymnt_inv            float64\n",
       "total_rec_prncp            float64\n",
       "total_rec_int              float64\n",
       "total_rec_late_fee         float64\n",
       "recoveries                 float64\n",
       "collection_recovery_fee    float64\n",
       "last_pymnt_d                object\n",
       "last_pymnt_amnt            float64\n",
       "next_pymnt_d                object\n",
       "last_credit_pull_d          object\n",
       "pub_rec_bankruptcies       float64\n",
       "dtype: object"
      ]
     },
     "execution_count": 8,
     "metadata": {},
     "output_type": "execute_result"
    }
   ],
   "source": [
    "#checking the shape and data type of each column in dataset_1\n",
    "\n",
    "print(\"shape of the lending_set1:\", lending_set1.shape)\n",
    "lending_set1.dtypes"
   ]
  },
  {
   "cell_type": "code",
   "execution_count": 9,
   "id": "f76c71ad",
   "metadata": {},
   "outputs": [],
   "source": [
    "# spliting the Column \"term\" values to \"int\" and forming a new column \"term_months\"\n",
    "# Dropping the \"term\"  column\n",
    "\n",
    "lending_set1[\"term_months\"] = lending_set1.term.str.split().str[0]\n",
    "lending_set1.drop(columns=[\"term\"])\n",
    "lending_set1[\"term_months\"]=lending_set1[\"term_months\"].astype(\"int64\")"
   ]
  },
  {
   "cell_type": "code",
   "execution_count": 10,
   "id": "c14661eb",
   "metadata": {},
   "outputs": [],
   "source": [
    "# Since thr \"int_rate\" column has a \"%\" symbol in it, we need to remove the symbol and naming the new column as \"interest_rate\" \n",
    "# changing the data type of interest_rate column\n",
    "lending_set1[\"interest_rate\"] = lending_set1[\"int_rate\"].str.split(\"%\").str[0]\n",
    "lending_set1[\"interest_rate\"]=lending_set1[\"interest_rate\"].astype(\"float64\")"
   ]
  },
  {
   "cell_type": "code",
   "execution_count": 11,
   "id": "4b2bea02",
   "metadata": {},
   "outputs": [
    {
     "name": "stdout",
     "output_type": "stream",
     "text": [
      "Data set-1 shape:  (39717, 45)\n"
     ]
    }
   ],
   "source": [
    "#checking the column\n",
    "lending_set1[\"interest_rate\"].head()\n",
    "# Dropping the \"int_rate\" Column\n",
    "lending_set1.drop(columns=\"int_rate\")\n",
    "#checking the shape\n",
    "print(\"Data set-1 shape: \",lending_set1.shape)"
   ]
  },
  {
   "cell_type": "code",
   "execution_count": 12,
   "id": "8c2da79a",
   "metadata": {},
   "outputs": [],
   "source": [
    "#getting the missing values in each column\n",
    "missing_data_analysis=lending_set1.isna().sum().to_frame()\n",
    "#giving column names to the dataframe\n",
    "missing_data_analysis.columns = [\"NA_count\"]\n",
    "#calculating the missing value percentage of all the records\n",
    "missing_data_analysis[\"missing_percent\"] = missing_data_analysis[\"NA_count\"]*(100/39717)"
   ]
  },
  {
   "cell_type": "code",
   "execution_count": 13,
   "id": "d00e6d3e",
   "metadata": {},
   "outputs": [
    {
     "data": {
      "text/html": [
       "<div>\n",
       "<style scoped>\n",
       "    .dataframe tbody tr th:only-of-type {\n",
       "        vertical-align: middle;\n",
       "    }\n",
       "\n",
       "    .dataframe tbody tr th {\n",
       "        vertical-align: top;\n",
       "    }\n",
       "\n",
       "    .dataframe thead th {\n",
       "        text-align: right;\n",
       "    }\n",
       "</style>\n",
       "<table border=\"1\" class=\"dataframe\">\n",
       "  <thead>\n",
       "    <tr style=\"text-align: right;\">\n",
       "      <th></th>\n",
       "      <th>NA_count</th>\n",
       "      <th>missing_percent</th>\n",
       "    </tr>\n",
       "  </thead>\n",
       "  <tbody>\n",
       "    <tr>\n",
       "      <th>id</th>\n",
       "      <td>0</td>\n",
       "      <td>0.000000</td>\n",
       "    </tr>\n",
       "    <tr>\n",
       "      <th>member_id</th>\n",
       "      <td>0</td>\n",
       "      <td>0.000000</td>\n",
       "    </tr>\n",
       "    <tr>\n",
       "      <th>loan_amnt</th>\n",
       "      <td>0</td>\n",
       "      <td>0.000000</td>\n",
       "    </tr>\n",
       "    <tr>\n",
       "      <th>funded_amnt</th>\n",
       "      <td>0</td>\n",
       "      <td>0.000000</td>\n",
       "    </tr>\n",
       "    <tr>\n",
       "      <th>funded_amnt_inv</th>\n",
       "      <td>0</td>\n",
       "      <td>0.000000</td>\n",
       "    </tr>\n",
       "    <tr>\n",
       "      <th>term</th>\n",
       "      <td>0</td>\n",
       "      <td>0.000000</td>\n",
       "    </tr>\n",
       "    <tr>\n",
       "      <th>int_rate</th>\n",
       "      <td>0</td>\n",
       "      <td>0.000000</td>\n",
       "    </tr>\n",
       "    <tr>\n",
       "      <th>installment</th>\n",
       "      <td>0</td>\n",
       "      <td>0.000000</td>\n",
       "    </tr>\n",
       "    <tr>\n",
       "      <th>grade</th>\n",
       "      <td>0</td>\n",
       "      <td>0.000000</td>\n",
       "    </tr>\n",
       "    <tr>\n",
       "      <th>sub_grade</th>\n",
       "      <td>0</td>\n",
       "      <td>0.000000</td>\n",
       "    </tr>\n",
       "    <tr>\n",
       "      <th>emp_length</th>\n",
       "      <td>1075</td>\n",
       "      <td>2.706650</td>\n",
       "    </tr>\n",
       "    <tr>\n",
       "      <th>home_ownership</th>\n",
       "      <td>0</td>\n",
       "      <td>0.000000</td>\n",
       "    </tr>\n",
       "    <tr>\n",
       "      <th>annual_inc</th>\n",
       "      <td>0</td>\n",
       "      <td>0.000000</td>\n",
       "    </tr>\n",
       "    <tr>\n",
       "      <th>verification_status</th>\n",
       "      <td>0</td>\n",
       "      <td>0.000000</td>\n",
       "    </tr>\n",
       "    <tr>\n",
       "      <th>issue_d</th>\n",
       "      <td>0</td>\n",
       "      <td>0.000000</td>\n",
       "    </tr>\n",
       "    <tr>\n",
       "      <th>loan_status</th>\n",
       "      <td>0</td>\n",
       "      <td>0.000000</td>\n",
       "    </tr>\n",
       "    <tr>\n",
       "      <th>purpose</th>\n",
       "      <td>0</td>\n",
       "      <td>0.000000</td>\n",
       "    </tr>\n",
       "    <tr>\n",
       "      <th>addr_state</th>\n",
       "      <td>0</td>\n",
       "      <td>0.000000</td>\n",
       "    </tr>\n",
       "    <tr>\n",
       "      <th>dti</th>\n",
       "      <td>0</td>\n",
       "      <td>0.000000</td>\n",
       "    </tr>\n",
       "    <tr>\n",
       "      <th>delinq_2yrs</th>\n",
       "      <td>0</td>\n",
       "      <td>0.000000</td>\n",
       "    </tr>\n",
       "    <tr>\n",
       "      <th>earliest_cr_line</th>\n",
       "      <td>0</td>\n",
       "      <td>0.000000</td>\n",
       "    </tr>\n",
       "    <tr>\n",
       "      <th>inq_last_6mths</th>\n",
       "      <td>0</td>\n",
       "      <td>0.000000</td>\n",
       "    </tr>\n",
       "    <tr>\n",
       "      <th>mths_since_last_delinq</th>\n",
       "      <td>25682</td>\n",
       "      <td>64.662487</td>\n",
       "    </tr>\n",
       "    <tr>\n",
       "      <th>mths_since_last_record</th>\n",
       "      <td>36931</td>\n",
       "      <td>92.985372</td>\n",
       "    </tr>\n",
       "    <tr>\n",
       "      <th>open_acc</th>\n",
       "      <td>0</td>\n",
       "      <td>0.000000</td>\n",
       "    </tr>\n",
       "    <tr>\n",
       "      <th>pub_rec</th>\n",
       "      <td>0</td>\n",
       "      <td>0.000000</td>\n",
       "    </tr>\n",
       "    <tr>\n",
       "      <th>revol_bal</th>\n",
       "      <td>0</td>\n",
       "      <td>0.000000</td>\n",
       "    </tr>\n",
       "    <tr>\n",
       "      <th>revol_util</th>\n",
       "      <td>50</td>\n",
       "      <td>0.125891</td>\n",
       "    </tr>\n",
       "    <tr>\n",
       "      <th>total_acc</th>\n",
       "      <td>0</td>\n",
       "      <td>0.000000</td>\n",
       "    </tr>\n",
       "    <tr>\n",
       "      <th>out_prncp</th>\n",
       "      <td>0</td>\n",
       "      <td>0.000000</td>\n",
       "    </tr>\n",
       "    <tr>\n",
       "      <th>out_prncp_inv</th>\n",
       "      <td>0</td>\n",
       "      <td>0.000000</td>\n",
       "    </tr>\n",
       "    <tr>\n",
       "      <th>total_pymnt</th>\n",
       "      <td>0</td>\n",
       "      <td>0.000000</td>\n",
       "    </tr>\n",
       "    <tr>\n",
       "      <th>total_pymnt_inv</th>\n",
       "      <td>0</td>\n",
       "      <td>0.000000</td>\n",
       "    </tr>\n",
       "    <tr>\n",
       "      <th>total_rec_prncp</th>\n",
       "      <td>0</td>\n",
       "      <td>0.000000</td>\n",
       "    </tr>\n",
       "    <tr>\n",
       "      <th>total_rec_int</th>\n",
       "      <td>0</td>\n",
       "      <td>0.000000</td>\n",
       "    </tr>\n",
       "    <tr>\n",
       "      <th>total_rec_late_fee</th>\n",
       "      <td>0</td>\n",
       "      <td>0.000000</td>\n",
       "    </tr>\n",
       "    <tr>\n",
       "      <th>recoveries</th>\n",
       "      <td>0</td>\n",
       "      <td>0.000000</td>\n",
       "    </tr>\n",
       "    <tr>\n",
       "      <th>collection_recovery_fee</th>\n",
       "      <td>0</td>\n",
       "      <td>0.000000</td>\n",
       "    </tr>\n",
       "    <tr>\n",
       "      <th>last_pymnt_d</th>\n",
       "      <td>71</td>\n",
       "      <td>0.178765</td>\n",
       "    </tr>\n",
       "    <tr>\n",
       "      <th>last_pymnt_amnt</th>\n",
       "      <td>0</td>\n",
       "      <td>0.000000</td>\n",
       "    </tr>\n",
       "    <tr>\n",
       "      <th>next_pymnt_d</th>\n",
       "      <td>38577</td>\n",
       "      <td>97.129693</td>\n",
       "    </tr>\n",
       "    <tr>\n",
       "      <th>last_credit_pull_d</th>\n",
       "      <td>2</td>\n",
       "      <td>0.005036</td>\n",
       "    </tr>\n",
       "    <tr>\n",
       "      <th>pub_rec_bankruptcies</th>\n",
       "      <td>697</td>\n",
       "      <td>1.754916</td>\n",
       "    </tr>\n",
       "    <tr>\n",
       "      <th>term_months</th>\n",
       "      <td>0</td>\n",
       "      <td>0.000000</td>\n",
       "    </tr>\n",
       "    <tr>\n",
       "      <th>interest_rate</th>\n",
       "      <td>0</td>\n",
       "      <td>0.000000</td>\n",
       "    </tr>\n",
       "  </tbody>\n",
       "</table>\n",
       "</div>"
      ],
      "text/plain": [
       "                         NA_count  missing_percent\n",
       "id                              0         0.000000\n",
       "member_id                       0         0.000000\n",
       "loan_amnt                       0         0.000000\n",
       "funded_amnt                     0         0.000000\n",
       "funded_amnt_inv                 0         0.000000\n",
       "term                            0         0.000000\n",
       "int_rate                        0         0.000000\n",
       "installment                     0         0.000000\n",
       "grade                           0         0.000000\n",
       "sub_grade                       0         0.000000\n",
       "emp_length                   1075         2.706650\n",
       "home_ownership                  0         0.000000\n",
       "annual_inc                      0         0.000000\n",
       "verification_status             0         0.000000\n",
       "issue_d                         0         0.000000\n",
       "loan_status                     0         0.000000\n",
       "purpose                         0         0.000000\n",
       "addr_state                      0         0.000000\n",
       "dti                             0         0.000000\n",
       "delinq_2yrs                     0         0.000000\n",
       "earliest_cr_line                0         0.000000\n",
       "inq_last_6mths                  0         0.000000\n",
       "mths_since_last_delinq      25682        64.662487\n",
       "mths_since_last_record      36931        92.985372\n",
       "open_acc                        0         0.000000\n",
       "pub_rec                         0         0.000000\n",
       "revol_bal                       0         0.000000\n",
       "revol_util                     50         0.125891\n",
       "total_acc                       0         0.000000\n",
       "out_prncp                       0         0.000000\n",
       "out_prncp_inv                   0         0.000000\n",
       "total_pymnt                     0         0.000000\n",
       "total_pymnt_inv                 0         0.000000\n",
       "total_rec_prncp                 0         0.000000\n",
       "total_rec_int                   0         0.000000\n",
       "total_rec_late_fee              0         0.000000\n",
       "recoveries                      0         0.000000\n",
       "collection_recovery_fee         0         0.000000\n",
       "last_pymnt_d                   71         0.178765\n",
       "last_pymnt_amnt                 0         0.000000\n",
       "next_pymnt_d                38577        97.129693\n",
       "last_credit_pull_d              2         0.005036\n",
       "pub_rec_bankruptcies          697         1.754916\n",
       "term_months                     0         0.000000\n",
       "interest_rate                   0         0.000000"
      ]
     },
     "execution_count": 13,
     "metadata": {},
     "output_type": "execute_result"
    }
   ],
   "source": [
    "missing_data_analysis\n",
    "\n",
    "## dropping the columns with more that 50% missing Values"
   ]
  },
  {
   "cell_type": "code",
   "execution_count": null,
   "id": "5b8ad4c0",
   "metadata": {},
   "outputs": [],
   "source": []
  },
  {
   "cell_type": "code",
   "execution_count": 14,
   "id": "600aba00",
   "metadata": {},
   "outputs": [],
   "source": [
    "#checking data type of \"issue_d\" column\n",
    "lending_set1[\"issue_d\"].dtypes\n",
    "#changing the datatype of \"issue_d\" column to date\n",
    "lending_set1[\"issue_d\"]=pd.to_datetime(lending_set1[\"issue_d\"], format=\"%b-%y\")"
   ]
  },
  {
   "cell_type": "code",
   "execution_count": 15,
   "id": "7e19e437",
   "metadata": {},
   "outputs": [
    {
     "data": {
      "text/plain": [
       "array(['Fully Paid', 'Charged Off', 'Current'], dtype=object)"
      ]
     },
     "execution_count": 15,
     "metadata": {},
     "output_type": "execute_result"
    }
   ],
   "source": [
    "lending_set1[\"loan_status\"].unique()"
   ]
  },
  {
   "cell_type": "code",
   "execution_count": 16,
   "id": "d91d37b6",
   "metadata": {},
   "outputs": [],
   "source": [
    "#To understand the indicator of loan defaulter we need to look into customers who have \"Fully paid\" the loan or defaulted(charged off) the loan\n",
    "#The loans with current status can be dropped\n",
    "lending_set1 = lending_set1[lending_set1[\"loan_status\"] != 'Current']"
   ]
  },
  {
   "cell_type": "code",
   "execution_count": 17,
   "id": "6667b808",
   "metadata": {},
   "outputs": [
    {
     "data": {
      "text/plain": [
       "(38577, 45)"
      ]
     },
     "execution_count": 17,
     "metadata": {},
     "output_type": "execute_result"
    }
   ],
   "source": [
    "#cheking the shape of data set again, to confirm the deletion of current category \n",
    "lending_set1.shape"
   ]
  },
  {
   "cell_type": "code",
   "execution_count": 18,
   "id": "7006d7e7",
   "metadata": {},
   "outputs": [],
   "source": [
    "# #checking data type of \"earliest_cr_line\" column\n",
    "lending_set1[\"earliest_cr_line\"].dtypes\n",
    "#changing the datatype of \"issue_d\" column to date\n",
    "lending_set1.loc[:,\"earliest_cr_line\"] = pd.to_datetime(lending_set1.loc[:,\"earliest_cr_line\"], format=\"%b-%y\")"
   ]
  },
  {
   "cell_type": "code",
   "execution_count": 19,
   "id": "fc5a93a7",
   "metadata": {},
   "outputs": [
    {
     "data": {
      "text/plain": [
       "0   1985-01-01\n",
       "1   1999-04-01\n",
       "2   2001-11-01\n",
       "3   1996-02-01\n",
       "5   2004-11-01\n",
       "Name: earliest_cr_line, dtype: datetime64[ns]"
      ]
     },
     "execution_count": 19,
     "metadata": {},
     "output_type": "execute_result"
    }
   ],
   "source": [
    "lending_set1[\"earliest_cr_line\"].head()"
   ]
  },
  {
   "cell_type": "code",
   "execution_count": 20,
   "id": "b05eb9d6",
   "metadata": {},
   "outputs": [
    {
     "data": {
      "text/plain": [
       "0    83.70%\n",
       "1     9.40%\n",
       "2    98.50%\n",
       "3       21%\n",
       "5    28.30%\n",
       "Name: revol_util, dtype: object"
      ]
     },
     "execution_count": 20,
     "metadata": {},
     "output_type": "execute_result"
    }
   ],
   "source": [
    "lending_set1[\"revol_util\"].head()"
   ]
  },
  {
   "cell_type": "code",
   "execution_count": 21,
   "id": "55426f11",
   "metadata": {},
   "outputs": [
    {
     "data": {
      "text/plain": [
       "0        83.7\n",
       "1         9.4\n",
       "2        98.5\n",
       "3        21.0\n",
       "5        28.3\n",
       "         ... \n",
       "39712    13.1\n",
       "39713    26.9\n",
       "39714    19.4\n",
       "39715     0.7\n",
       "39716    51.5\n",
       "Name: revol_util, Length: 38577, dtype: float64"
      ]
     },
     "execution_count": 21,
     "metadata": {},
     "output_type": "execute_result"
    }
   ],
   "source": [
    "#converting the revot_util to float datatype \n",
    "lending_set1[\"revol_util\"] = lending_set1[\"revol_util\"].str.split(\"%\").str[0]\n",
    "lending_set1[\"revol_util\"].astype(\"float64\")"
   ]
  },
  {
   "cell_type": "code",
   "execution_count": 22,
   "id": "d2dfc510",
   "metadata": {},
   "outputs": [],
   "source": [
    "#changing the datatype of \"last_pymnt_d\" column to datetime\n",
    "lending_set1.loc[:,\"last_pymnt_d\"] = pd.to_datetime(lending_set1.loc[:,\"last_pymnt_d\"], format=\"%b-%y\")"
   ]
  },
  {
   "cell_type": "code",
   "execution_count": 23,
   "id": "7cd28bc3",
   "metadata": {},
   "outputs": [],
   "source": [
    "#changing the datatype of \"next_pymnt_d\" column to datetime\n",
    "lending_set1.loc[:,\"next_pymnt_d\"] = pd.to_datetime(lending_set1.loc[:,\"next_pymnt_d\"], format=\"%b-%y\")"
   ]
  },
  {
   "cell_type": "code",
   "execution_count": 24,
   "id": "33ed439b",
   "metadata": {},
   "outputs": [
    {
     "data": {
      "text/plain": [
       "dtype('<M8[ns]')"
      ]
     },
     "execution_count": 24,
     "metadata": {},
     "output_type": "execute_result"
    }
   ],
   "source": [
    "#checking both \"last_pymnt_d\" and \"next_pymnt_d\" dtypes\n",
    "lending_set1[\"last_pymnt_d\"].dtypes"
   ]
  },
  {
   "cell_type": "code",
   "execution_count": 25,
   "id": "a441a5a0",
   "metadata": {},
   "outputs": [
    {
     "data": {
      "text/plain": [
       "dtype('<M8[ns]')"
      ]
     },
     "execution_count": 25,
     "metadata": {},
     "output_type": "execute_result"
    }
   ],
   "source": [
    "lending_set1[\"next_pymnt_d\"].dtypes"
   ]
  },
  {
   "cell_type": "code",
   "execution_count": 26,
   "id": "ef83ac91",
   "metadata": {},
   "outputs": [
    {
     "data": {
      "text/plain": [
       "0    May-16\n",
       "1    Sep-13\n",
       "2    May-16\n",
       "3    Apr-16\n",
       "5    Jan-16\n",
       "Name: last_credit_pull_d, dtype: object"
      ]
     },
     "execution_count": 26,
     "metadata": {},
     "output_type": "execute_result"
    }
   ],
   "source": [
    "lending_set1[\"last_credit_pull_d\"].head()"
   ]
  },
  {
   "cell_type": "code",
   "execution_count": 27,
   "id": "97b4e646",
   "metadata": {},
   "outputs": [],
   "source": [
    "#converting \"last_credit_pull_d\" column to datetime format\n",
    "\n",
    "lending_set1.loc[:,\"last_credit_pull_d\"] = pd.to_datetime(lending_set1.loc[:,\"last_credit_pull_d\"], format=\"%b-%y\")"
   ]
  },
  {
   "cell_type": "code",
   "execution_count": 28,
   "id": "88bd6cbe",
   "metadata": {},
   "outputs": [
    {
     "data": {
      "text/plain": [
       "0   2016-05-01\n",
       "1   2013-09-01\n",
       "2   2016-05-01\n",
       "3   2016-04-01\n",
       "5   2016-01-01\n",
       "Name: last_credit_pull_d, dtype: datetime64[ns]"
      ]
     },
     "execution_count": 28,
     "metadata": {},
     "output_type": "execute_result"
    }
   ],
   "source": [
    "lending_set1[\"last_credit_pull_d\"].head()"
   ]
  },
  {
   "cell_type": "code",
   "execution_count": 29,
   "id": "c0ca04b0",
   "metadata": {},
   "outputs": [
    {
     "name": "stdout",
     "output_type": "stream",
     "text": [
      "<class 'pandas.core.frame.DataFrame'>\n",
      "Int64Index: 38577 entries, 0 to 39716\n",
      "Data columns (total 45 columns):\n",
      " #   Column                   Non-Null Count  Dtype         \n",
      "---  ------                   --------------  -----         \n",
      " 0   id                       38577 non-null  int64         \n",
      " 1   member_id                38577 non-null  int64         \n",
      " 2   loan_amnt                38577 non-null  int64         \n",
      " 3   funded_amnt              38577 non-null  int64         \n",
      " 4   funded_amnt_inv          38577 non-null  float64       \n",
      " 5   term                     38577 non-null  object        \n",
      " 6   int_rate                 38577 non-null  object        \n",
      " 7   installment              38577 non-null  float64       \n",
      " 8   grade                    38577 non-null  object        \n",
      " 9   sub_grade                38577 non-null  object        \n",
      " 10  emp_length               37544 non-null  object        \n",
      " 11  home_ownership           38577 non-null  object        \n",
      " 12  annual_inc               38577 non-null  float64       \n",
      " 13  verification_status      38577 non-null  object        \n",
      " 14  issue_d                  38577 non-null  datetime64[ns]\n",
      " 15  loan_status              38577 non-null  object        \n",
      " 16  purpose                  38577 non-null  object        \n",
      " 17  addr_state               38577 non-null  object        \n",
      " 18  dti                      38577 non-null  float64       \n",
      " 19  delinq_2yrs              38577 non-null  int64         \n",
      " 20  earliest_cr_line         38577 non-null  datetime64[ns]\n",
      " 21  inq_last_6mths           38577 non-null  int64         \n",
      " 22  mths_since_last_delinq   13672 non-null  float64       \n",
      " 23  mths_since_last_record   2740 non-null   float64       \n",
      " 24  open_acc                 38577 non-null  int64         \n",
      " 25  pub_rec                  38577 non-null  int64         \n",
      " 26  revol_bal                38577 non-null  int64         \n",
      " 27  revol_util               38527 non-null  object        \n",
      " 28  total_acc                38577 non-null  int64         \n",
      " 29  out_prncp                38577 non-null  float64       \n",
      " 30  out_prncp_inv            38577 non-null  float64       \n",
      " 31  total_pymnt              38577 non-null  float64       \n",
      " 32  total_pymnt_inv          38577 non-null  float64       \n",
      " 33  total_rec_prncp          38577 non-null  float64       \n",
      " 34  total_rec_int            38577 non-null  float64       \n",
      " 35  total_rec_late_fee       38577 non-null  float64       \n",
      " 36  recoveries               38577 non-null  float64       \n",
      " 37  collection_recovery_fee  38577 non-null  float64       \n",
      " 38  last_pymnt_d             38506 non-null  datetime64[ns]\n",
      " 39  last_pymnt_amnt          38577 non-null  float64       \n",
      " 40  next_pymnt_d             0 non-null      datetime64[ns]\n",
      " 41  last_credit_pull_d       38575 non-null  datetime64[ns]\n",
      " 42  pub_rec_bankruptcies     37880 non-null  float64       \n",
      " 43  term_months              38577 non-null  int64         \n",
      " 44  interest_rate            38577 non-null  float64       \n",
      "dtypes: datetime64[ns](5), float64(18), int64(11), object(11)\n",
      "memory usage: 13.5+ MB\n"
     ]
    }
   ],
   "source": [
    "#finally checking the dataset, one final review\n",
    "lending_set1.info()"
   ]
  },
  {
   "cell_type": "markdown",
   "id": "f4e72989",
   "metadata": {},
   "source": [
    "### Everthing is set for Analysis"
   ]
  },
  {
   "cell_type": "markdown",
   "id": "8d1620cc",
   "metadata": {},
   "source": [
    "#### Before proceeding to analysis a detailed review of the clean data would\n",
    "#### help in understanding what columns would be helpful in analysing the Risk"
   ]
  },
  {
   "cell_type": "markdown",
   "id": "bb7b6ceb",
   "metadata": {},
   "source": [
    "- loan_amnt\n",
    "- term\n",
    "- int_rate\n",
    "- installment\n",
    "- emp_length\n",
    "- home_ownership\n",
    "- annual_inc\n",
    "- verification_status\n",
    "- issue_d\n",
    "- purpose\n",
    "- dti\n",
    "- delinq_2yrs\n",
    "- earliest_cr_line\n",
    "- inq_last_6mths\n",
    "- mths_since_last_delinq\n",
    "- mths_since_last_record\n",
    "- open_acc\n",
    "- pub_rec\n",
    "- revol_bal\n",
    "- revol_util\n",
    "- total_acc\n",
    "- pub_rec_bankruptcies\n",
    "\n",
    "The Above columns would be useful in analysing the risk, as these values are necessery for an individual to submit and choose before acquiring a loan and majorly these keys will be the main driving factors for LC to approve or reject a loan."
   ]
  },
  {
   "cell_type": "code",
   "execution_count": 30,
   "id": "e966d7cc",
   "metadata": {},
   "outputs": [],
   "source": [
    "#dropping of the unnecessery columns form the dataset\n",
    "lending_set1=lending_set1.drop(columns=[\"funded_amnt_inv\",\"sub_grade\",\"out_prncp\",\"out_prncp_inv\",\"total_pymnt\",\"total_pymnt_inv\",\"total_rec_prncp\",\"total_rec_int\",\"total_rec_late_fee\",\"recoveries\",\"collection_recovery_fee\",\"last_pymnt_d\",\"last_pymnt_amnt\",\"next_pymnt_d\",\"last_credit_pull_d\"])"
   ]
  },
  {
   "cell_type": "code",
   "execution_count": 31,
   "id": "0caed373",
   "metadata": {},
   "outputs": [],
   "source": [
    "lending_set1.columns\n",
    "#writing a function to mark defaulties in the \"defaulty\" column\n",
    "def f(x):\n",
    "    if x == \"Fully Paid\":\n",
    "        return 0\n",
    "    else :\n",
    "        return 1\n",
    "\n",
    "lending_set1[\"defaulty\"] = lending_set1[\"loan_status\"].apply(f)"
   ]
  },
  {
   "cell_type": "code",
   "execution_count": 32,
   "id": "59da2920",
   "metadata": {},
   "outputs": [
    {
     "data": {
      "text/plain": [
       "Index(['id', 'member_id', 'loan_amnt', 'funded_amnt', 'term', 'int_rate',\n",
       "       'installment', 'grade', 'emp_length', 'home_ownership', 'annual_inc',\n",
       "       'verification_status', 'issue_d', 'loan_status', 'purpose',\n",
       "       'addr_state', 'dti', 'delinq_2yrs', 'earliest_cr_line',\n",
       "       'inq_last_6mths', 'mths_since_last_delinq', 'mths_since_last_record',\n",
       "       'open_acc', 'pub_rec', 'revol_bal', 'revol_util', 'total_acc',\n",
       "       'pub_rec_bankruptcies', 'term_months', 'interest_rate', 'defaulty'],\n",
       "      dtype='object')"
      ]
     },
     "execution_count": 32,
     "metadata": {},
     "output_type": "execute_result"
    }
   ],
   "source": [
    "lending_set1.columns"
   ]
  },
  {
   "cell_type": "code",
   "execution_count": 33,
   "id": "2a7408a3",
   "metadata": {},
   "outputs": [],
   "source": [
    "lending_set1 = lending_set1.drop(columns=[\"term\",\"int_rate\",\"mths_since_last_record\",\"mths_since_last_delinq\"])\n",
    "lending_set1[\"verification_status\"].replace(to_replace='Source Verified',value='Verified',inplace=True)\n"
   ]
  },
  {
   "cell_type": "code",
   "execution_count": 34,
   "id": "db12831e",
   "metadata": {},
   "outputs": [
    {
     "data": {
      "text/html": [
       "<div>\n",
       "<style scoped>\n",
       "    .dataframe tbody tr th:only-of-type {\n",
       "        vertical-align: middle;\n",
       "    }\n",
       "\n",
       "    .dataframe tbody tr th {\n",
       "        vertical-align: top;\n",
       "    }\n",
       "\n",
       "    .dataframe thead th {\n",
       "        text-align: right;\n",
       "    }\n",
       "</style>\n",
       "<table border=\"1\" class=\"dataframe\">\n",
       "  <thead>\n",
       "    <tr style=\"text-align: right;\">\n",
       "      <th></th>\n",
       "      <th>id</th>\n",
       "      <th>member_id</th>\n",
       "      <th>loan_amnt</th>\n",
       "      <th>funded_amnt</th>\n",
       "      <th>installment</th>\n",
       "      <th>grade</th>\n",
       "      <th>emp_length</th>\n",
       "      <th>home_ownership</th>\n",
       "      <th>annual_inc</th>\n",
       "      <th>verification_status</th>\n",
       "      <th>...</th>\n",
       "      <th>inq_last_6mths</th>\n",
       "      <th>open_acc</th>\n",
       "      <th>pub_rec</th>\n",
       "      <th>revol_bal</th>\n",
       "      <th>revol_util</th>\n",
       "      <th>total_acc</th>\n",
       "      <th>pub_rec_bankruptcies</th>\n",
       "      <th>term_months</th>\n",
       "      <th>interest_rate</th>\n",
       "      <th>defaulty</th>\n",
       "    </tr>\n",
       "  </thead>\n",
       "  <tbody>\n",
       "    <tr>\n",
       "      <th>0</th>\n",
       "      <td>1077501</td>\n",
       "      <td>1296599</td>\n",
       "      <td>5000</td>\n",
       "      <td>5000</td>\n",
       "      <td>162.87</td>\n",
       "      <td>B</td>\n",
       "      <td>10+ years</td>\n",
       "      <td>RENT</td>\n",
       "      <td>24000.0</td>\n",
       "      <td>Verified</td>\n",
       "      <td>...</td>\n",
       "      <td>1</td>\n",
       "      <td>3</td>\n",
       "      <td>0</td>\n",
       "      <td>13648</td>\n",
       "      <td>83.70</td>\n",
       "      <td>9</td>\n",
       "      <td>0.0</td>\n",
       "      <td>36</td>\n",
       "      <td>10.65</td>\n",
       "      <td>0</td>\n",
       "    </tr>\n",
       "    <tr>\n",
       "      <th>1</th>\n",
       "      <td>1077430</td>\n",
       "      <td>1314167</td>\n",
       "      <td>2500</td>\n",
       "      <td>2500</td>\n",
       "      <td>59.83</td>\n",
       "      <td>C</td>\n",
       "      <td>&lt; 1 year</td>\n",
       "      <td>RENT</td>\n",
       "      <td>30000.0</td>\n",
       "      <td>Verified</td>\n",
       "      <td>...</td>\n",
       "      <td>5</td>\n",
       "      <td>3</td>\n",
       "      <td>0</td>\n",
       "      <td>1687</td>\n",
       "      <td>9.40</td>\n",
       "      <td>4</td>\n",
       "      <td>0.0</td>\n",
       "      <td>60</td>\n",
       "      <td>15.27</td>\n",
       "      <td>1</td>\n",
       "    </tr>\n",
       "    <tr>\n",
       "      <th>2</th>\n",
       "      <td>1077175</td>\n",
       "      <td>1313524</td>\n",
       "      <td>2400</td>\n",
       "      <td>2400</td>\n",
       "      <td>84.33</td>\n",
       "      <td>C</td>\n",
       "      <td>10+ years</td>\n",
       "      <td>RENT</td>\n",
       "      <td>12252.0</td>\n",
       "      <td>Not Verified</td>\n",
       "      <td>...</td>\n",
       "      <td>2</td>\n",
       "      <td>2</td>\n",
       "      <td>0</td>\n",
       "      <td>2956</td>\n",
       "      <td>98.50</td>\n",
       "      <td>10</td>\n",
       "      <td>0.0</td>\n",
       "      <td>36</td>\n",
       "      <td>15.96</td>\n",
       "      <td>0</td>\n",
       "    </tr>\n",
       "    <tr>\n",
       "      <th>3</th>\n",
       "      <td>1076863</td>\n",
       "      <td>1277178</td>\n",
       "      <td>10000</td>\n",
       "      <td>10000</td>\n",
       "      <td>339.31</td>\n",
       "      <td>C</td>\n",
       "      <td>10+ years</td>\n",
       "      <td>RENT</td>\n",
       "      <td>49200.0</td>\n",
       "      <td>Verified</td>\n",
       "      <td>...</td>\n",
       "      <td>1</td>\n",
       "      <td>10</td>\n",
       "      <td>0</td>\n",
       "      <td>5598</td>\n",
       "      <td>21</td>\n",
       "      <td>37</td>\n",
       "      <td>0.0</td>\n",
       "      <td>36</td>\n",
       "      <td>13.49</td>\n",
       "      <td>0</td>\n",
       "    </tr>\n",
       "    <tr>\n",
       "      <th>5</th>\n",
       "      <td>1075269</td>\n",
       "      <td>1311441</td>\n",
       "      <td>5000</td>\n",
       "      <td>5000</td>\n",
       "      <td>156.46</td>\n",
       "      <td>A</td>\n",
       "      <td>3 years</td>\n",
       "      <td>RENT</td>\n",
       "      <td>36000.0</td>\n",
       "      <td>Verified</td>\n",
       "      <td>...</td>\n",
       "      <td>3</td>\n",
       "      <td>9</td>\n",
       "      <td>0</td>\n",
       "      <td>7963</td>\n",
       "      <td>28.30</td>\n",
       "      <td>12</td>\n",
       "      <td>0.0</td>\n",
       "      <td>36</td>\n",
       "      <td>7.90</td>\n",
       "      <td>0</td>\n",
       "    </tr>\n",
       "    <tr>\n",
       "      <th>...</th>\n",
       "      <td>...</td>\n",
       "      <td>...</td>\n",
       "      <td>...</td>\n",
       "      <td>...</td>\n",
       "      <td>...</td>\n",
       "      <td>...</td>\n",
       "      <td>...</td>\n",
       "      <td>...</td>\n",
       "      <td>...</td>\n",
       "      <td>...</td>\n",
       "      <td>...</td>\n",
       "      <td>...</td>\n",
       "      <td>...</td>\n",
       "      <td>...</td>\n",
       "      <td>...</td>\n",
       "      <td>...</td>\n",
       "      <td>...</td>\n",
       "      <td>...</td>\n",
       "      <td>...</td>\n",
       "      <td>...</td>\n",
       "      <td>...</td>\n",
       "    </tr>\n",
       "    <tr>\n",
       "      <th>39712</th>\n",
       "      <td>92187</td>\n",
       "      <td>92174</td>\n",
       "      <td>2500</td>\n",
       "      <td>2500</td>\n",
       "      <td>78.42</td>\n",
       "      <td>A</td>\n",
       "      <td>4 years</td>\n",
       "      <td>MORTGAGE</td>\n",
       "      <td>110000.0</td>\n",
       "      <td>Not Verified</td>\n",
       "      <td>...</td>\n",
       "      <td>0</td>\n",
       "      <td>13</td>\n",
       "      <td>0</td>\n",
       "      <td>7274</td>\n",
       "      <td>13.10</td>\n",
       "      <td>40</td>\n",
       "      <td>NaN</td>\n",
       "      <td>36</td>\n",
       "      <td>8.07</td>\n",
       "      <td>0</td>\n",
       "    </tr>\n",
       "    <tr>\n",
       "      <th>39713</th>\n",
       "      <td>90665</td>\n",
       "      <td>90607</td>\n",
       "      <td>8500</td>\n",
       "      <td>8500</td>\n",
       "      <td>275.38</td>\n",
       "      <td>C</td>\n",
       "      <td>3 years</td>\n",
       "      <td>RENT</td>\n",
       "      <td>18000.0</td>\n",
       "      <td>Not Verified</td>\n",
       "      <td>...</td>\n",
       "      <td>1</td>\n",
       "      <td>6</td>\n",
       "      <td>0</td>\n",
       "      <td>8847</td>\n",
       "      <td>26.90</td>\n",
       "      <td>9</td>\n",
       "      <td>NaN</td>\n",
       "      <td>36</td>\n",
       "      <td>10.28</td>\n",
       "      <td>0</td>\n",
       "    </tr>\n",
       "    <tr>\n",
       "      <th>39714</th>\n",
       "      <td>90395</td>\n",
       "      <td>90390</td>\n",
       "      <td>5000</td>\n",
       "      <td>5000</td>\n",
       "      <td>156.84</td>\n",
       "      <td>A</td>\n",
       "      <td>&lt; 1 year</td>\n",
       "      <td>MORTGAGE</td>\n",
       "      <td>100000.0</td>\n",
       "      <td>Not Verified</td>\n",
       "      <td>...</td>\n",
       "      <td>0</td>\n",
       "      <td>11</td>\n",
       "      <td>0</td>\n",
       "      <td>9698</td>\n",
       "      <td>19.40</td>\n",
       "      <td>20</td>\n",
       "      <td>NaN</td>\n",
       "      <td>36</td>\n",
       "      <td>8.07</td>\n",
       "      <td>0</td>\n",
       "    </tr>\n",
       "    <tr>\n",
       "      <th>39715</th>\n",
       "      <td>90376</td>\n",
       "      <td>89243</td>\n",
       "      <td>5000</td>\n",
       "      <td>5000</td>\n",
       "      <td>155.38</td>\n",
       "      <td>A</td>\n",
       "      <td>&lt; 1 year</td>\n",
       "      <td>MORTGAGE</td>\n",
       "      <td>200000.0</td>\n",
       "      <td>Not Verified</td>\n",
       "      <td>...</td>\n",
       "      <td>0</td>\n",
       "      <td>17</td>\n",
       "      <td>0</td>\n",
       "      <td>85607</td>\n",
       "      <td>0.70</td>\n",
       "      <td>26</td>\n",
       "      <td>NaN</td>\n",
       "      <td>36</td>\n",
       "      <td>7.43</td>\n",
       "      <td>0</td>\n",
       "    </tr>\n",
       "    <tr>\n",
       "      <th>39716</th>\n",
       "      <td>87023</td>\n",
       "      <td>86999</td>\n",
       "      <td>7500</td>\n",
       "      <td>7500</td>\n",
       "      <td>255.43</td>\n",
       "      <td>E</td>\n",
       "      <td>&lt; 1 year</td>\n",
       "      <td>OWN</td>\n",
       "      <td>22000.0</td>\n",
       "      <td>Not Verified</td>\n",
       "      <td>...</td>\n",
       "      <td>0</td>\n",
       "      <td>7</td>\n",
       "      <td>0</td>\n",
       "      <td>4175</td>\n",
       "      <td>51.50</td>\n",
       "      <td>8</td>\n",
       "      <td>NaN</td>\n",
       "      <td>36</td>\n",
       "      <td>13.75</td>\n",
       "      <td>0</td>\n",
       "    </tr>\n",
       "  </tbody>\n",
       "</table>\n",
       "<p>38577 rows × 27 columns</p>\n",
       "</div>"
      ],
      "text/plain": [
       "            id  member_id  loan_amnt  funded_amnt  installment grade  \\\n",
       "0      1077501    1296599       5000         5000       162.87     B   \n",
       "1      1077430    1314167       2500         2500        59.83     C   \n",
       "2      1077175    1313524       2400         2400        84.33     C   \n",
       "3      1076863    1277178      10000        10000       339.31     C   \n",
       "5      1075269    1311441       5000         5000       156.46     A   \n",
       "...        ...        ...        ...          ...          ...   ...   \n",
       "39712    92187      92174       2500         2500        78.42     A   \n",
       "39713    90665      90607       8500         8500       275.38     C   \n",
       "39714    90395      90390       5000         5000       156.84     A   \n",
       "39715    90376      89243       5000         5000       155.38     A   \n",
       "39716    87023      86999       7500         7500       255.43     E   \n",
       "\n",
       "      emp_length home_ownership  annual_inc verification_status  ...  \\\n",
       "0      10+ years           RENT     24000.0            Verified  ...   \n",
       "1       < 1 year           RENT     30000.0            Verified  ...   \n",
       "2      10+ years           RENT     12252.0        Not Verified  ...   \n",
       "3      10+ years           RENT     49200.0            Verified  ...   \n",
       "5        3 years           RENT     36000.0            Verified  ...   \n",
       "...          ...            ...         ...                 ...  ...   \n",
       "39712    4 years       MORTGAGE    110000.0        Not Verified  ...   \n",
       "39713    3 years           RENT     18000.0        Not Verified  ...   \n",
       "39714   < 1 year       MORTGAGE    100000.0        Not Verified  ...   \n",
       "39715   < 1 year       MORTGAGE    200000.0        Not Verified  ...   \n",
       "39716   < 1 year            OWN     22000.0        Not Verified  ...   \n",
       "\n",
       "      inq_last_6mths open_acc pub_rec revol_bal  revol_util  total_acc  \\\n",
       "0                  1        3       0     13648       83.70          9   \n",
       "1                  5        3       0      1687        9.40          4   \n",
       "2                  2        2       0      2956       98.50         10   \n",
       "3                  1       10       0      5598          21         37   \n",
       "5                  3        9       0      7963       28.30         12   \n",
       "...              ...      ...     ...       ...         ...        ...   \n",
       "39712              0       13       0      7274       13.10         40   \n",
       "39713              1        6       0      8847       26.90          9   \n",
       "39714              0       11       0      9698       19.40         20   \n",
       "39715              0       17       0     85607        0.70         26   \n",
       "39716              0        7       0      4175       51.50          8   \n",
       "\n",
       "      pub_rec_bankruptcies  term_months  interest_rate  defaulty  \n",
       "0                      0.0           36          10.65         0  \n",
       "1                      0.0           60          15.27         1  \n",
       "2                      0.0           36          15.96         0  \n",
       "3                      0.0           36          13.49         0  \n",
       "5                      0.0           36           7.90         0  \n",
       "...                    ...          ...            ...       ...  \n",
       "39712                  NaN           36           8.07         0  \n",
       "39713                  NaN           36          10.28         0  \n",
       "39714                  NaN           36           8.07         0  \n",
       "39715                  NaN           36           7.43         0  \n",
       "39716                  NaN           36          13.75         0  \n",
       "\n",
       "[38577 rows x 27 columns]"
      ]
     },
     "execution_count": 34,
     "metadata": {},
     "output_type": "execute_result"
    }
   ],
   "source": [
    "lending_set1"
   ]
  },
  {
   "cell_type": "markdown",
   "id": "5cc04410",
   "metadata": {},
   "source": [
    "# Univariate Analysis"
   ]
  },
  {
   "cell_type": "code",
   "execution_count": 35,
   "id": "0b77083e",
   "metadata": {},
   "outputs": [
    {
     "name": "stderr",
     "output_type": "stream",
     "text": [
      "C:\\Users\\chira\\anaconda3\\lib\\site-packages\\seaborn\\distributions.py:2619: FutureWarning: `distplot` is a deprecated function and will be removed in a future version. Please adapt your code to use either `displot` (a figure-level function with similar flexibility) or `histplot` (an axes-level function for histograms).\n",
      "  warnings.warn(msg, FutureWarning)\n"
     ]
    },
    {
     "data": {
      "text/plain": [
       "<AxesSubplot:xlabel='funded_amnt', ylabel='Density'>"
      ]
     },
     "execution_count": 35,
     "metadata": {},
     "output_type": "execute_result"
    },
    {
     "data": {
      "image/png": "[encoded data removed]",
      "text/plain": [
       "<Figure size 432x288 with 1 Axes>"
      ]
     },
     "metadata": {
      "needs_background": "light"
     },
     "output_type": "display_data"
    }
   ],
   "source": [
    "sns.distplot(lending_set1.funded_amnt)"
   ]
  },
  {
   "cell_type": "code",
   "execution_count": 36,
   "id": "f6232520",
   "metadata": {},
   "outputs": [
    {
     "data": {
      "text/plain": [
       "Text(0, 0.5, 'Loan amnount')"
      ]
     },
     "execution_count": 36,
     "metadata": {},
     "output_type": "execute_result"
    },
    {
     "data": {
      "image/png": "[encoded data removed]",
      "text/plain": [
       "<Figure size 432x288 with 1 Axes>"
      ]
     },
     "metadata": {
      "needs_background": "light"
     },
     "output_type": "display_data"
    }
   ],
   "source": [
    "sns.boxplot(y=lending_set[\"loan_amnt\"])\n",
    "plt.ylabel(\"Loan amnount\")"
   ]
  },
  {
   "cell_type": "code",
   "execution_count": 37,
   "id": "d7af5976",
   "metadata": {},
   "outputs": [
    {
     "name": "stderr",
     "output_type": "stream",
     "text": [
      "C:\\Users\\chira\\anaconda3\\lib\\site-packages\\seaborn\\distributions.py:2619: FutureWarning: `distplot` is a deprecated function and will be removed in a future version. Please adapt your code to use either `displot` (a figure-level function with similar flexibility) or `histplot` (an axes-level function for histograms).\n",
      "  warnings.warn(msg, FutureWarning)\n"
     ]
    },
    {
     "data": {
      "text/plain": [
       "<AxesSubplot:xlabel='interest_rate', ylabel='Density'>"
      ]
     },
     "execution_count": 37,
     "metadata": {},
     "output_type": "execute_result"
    },
    {
     "data": {
      "image/png": "[encoded data removed]",
      "text/plain": [
       "<Figure size 432x288 with 1 Axes>"
      ]
     },
     "metadata": {
      "needs_background": "light"
     },
     "output_type": "display_data"
    }
   ],
   "source": [
    "sns.distplot(lending_set1.interest_rate)"
   ]
  },
  {
   "cell_type": "code",
   "execution_count": 38,
   "id": "799668f3",
   "metadata": {},
   "outputs": [
    {
     "name": "stderr",
     "output_type": "stream",
     "text": [
      "C:\\Users\\chira\\anaconda3\\lib\\site-packages\\seaborn\\distributions.py:2619: FutureWarning: `distplot` is a deprecated function and will be removed in a future version. Please adapt your code to use either `displot` (a figure-level function with similar flexibility) or `histplot` (an axes-level function for histograms).\n",
      "  warnings.warn(msg, FutureWarning)\n"
     ]
    },
    {
     "data": {
      "text/plain": [
       "<AxesSubplot:xlabel='installment', ylabel='Density'>"
      ]
     },
     "execution_count": 38,
     "metadata": {},
     "output_type": "execute_result"
    },
    {
     "data": {
      "image/png": "[encoded data removed]",
      "text/plain": [
       "<Figure size 432x288 with 1 Axes>"
      ]
     },
     "metadata": {
      "needs_background": "light"
     },
     "output_type": "display_data"
    }
   ],
   "source": [
    "sns.distplot(lending_set1.installment)"
   ]
  },
  {
   "cell_type": "code",
   "execution_count": 39,
   "id": "639b4565",
   "metadata": {},
   "outputs": [
    {
     "data": {
      "text/plain": [
       "Text(0.5, 6.79999999999999, 'Annual income')"
      ]
     },
     "execution_count": 39,
     "metadata": {},
     "output_type": "execute_result"
    },
    {
     "data": {
      "image/png": "[encoded data removed]",
      "text/plain": [
       "<Figure size 360x360 with 1 Axes>"
      ]
     },
     "metadata": {
      "needs_background": "light"
     },
     "output_type": "display_data"
    }
   ],
   "source": [
    "sns.displot(lending_set1.annual_inc,kind='kde')\n",
    "plt.xlabel(\"Annual income\")"
   ]
  },
  {
   "cell_type": "code",
   "execution_count": 40,
   "id": "5de1d733",
   "metadata": {},
   "outputs": [
    {
     "data": {
      "text/plain": [
       "Text(0.5, 6.79999999999999, 'Total credit revolving balance')"
      ]
     },
     "execution_count": 40,
     "metadata": {},
     "output_type": "execute_result"
    },
    {
     "data": {
      "image/png": "[encoded data removed]",
      "text/plain": [
       "<Figure size 360x360 with 1 Axes>"
      ]
     },
     "metadata": {
      "needs_background": "light"
     },
     "output_type": "display_data"
    }
   ],
   "source": [
    "sns.displot(lending_set1.revol_bal)\n",
    "plt.xticks(rotation=90)\n",
    "plt.xlabel(\"Total credit revolving balance\")"
   ]
  },
  {
   "cell_type": "code",
   "execution_count": 41,
   "id": "d96f3a87",
   "metadata": {},
   "outputs": [
    {
     "data": {
      "text/plain": [
       "Text(0.5, 0, 'Loan Status')"
      ]
     },
     "execution_count": 41,
     "metadata": {},
     "output_type": "execute_result"
    },
    {
     "data": {
      "image/png": "[encoded data removed]",
      "text/plain": [
       "<Figure size 432x288 with 1 Axes>"
      ]
     },
     "metadata": {
      "needs_background": "light"
     },
     "output_type": "display_data"
    }
   ],
   "source": [
    "sns.countplot(x=lending_set1[\"loan_status\"])\n",
    "plt.xlabel(\"Loan Status\")"
   ]
  },
  {
   "cell_type": "code",
   "execution_count": 42,
   "id": "c82e2119",
   "metadata": {},
   "outputs": [
    {
     "name": "stderr",
     "output_type": "stream",
     "text": [
      "C:\\Users\\chira\\anaconda3\\lib\\site-packages\\seaborn\\_decorators.py:36: FutureWarning: Pass the following variable as a keyword arg: x. From version 0.12, the only valid positional argument will be `data`, and passing other arguments without an explicit keyword will result in an error or misinterpretation.\n",
      "  warnings.warn(\n"
     ]
    },
    {
     "data": {
      "text/plain": [
       "(array([ 0,  1,  2,  3,  4,  5,  6,  7,  8,  9, 10]),\n",
       " [Text(0, 0, '10+ years'),\n",
       "  Text(1, 0, '< 1 year'),\n",
       "  Text(2, 0, '3 years'),\n",
       "  Text(3, 0, '8 years'),\n",
       "  Text(4, 0, '9 years'),\n",
       "  Text(5, 0, '4 years'),\n",
       "  Text(6, 0, '5 years'),\n",
       "  Text(7, 0, '1 year'),\n",
       "  Text(8, 0, '6 years'),\n",
       "  Text(9, 0, '2 years'),\n",
       "  Text(10, 0, '7 years')])"
      ]
     },
     "execution_count": 42,
     "metadata": {},
     "output_type": "execute_result"
    },
    {
     "data": {
      "image/png": "[encoded data removed]",
      "text/plain": [
       "<Figure size 432x288 with 1 Axes>"
      ]
     },
     "metadata": {
      "needs_background": "light"
     },
     "output_type": "display_data"
    }
   ],
   "source": [
    "sns.countplot(lending_set1[\"emp_length\"])\n",
    "plt.xlabel(\"Employee working experience\")\n",
    "plt.xticks(rotation=90)"
   ]
  },
  {
   "cell_type": "code",
   "execution_count": 62,
   "id": "45ad191d",
   "metadata": {},
   "outputs": [
    {
     "name": "stderr",
     "output_type": "stream",
     "text": [
      "C:\\Users\\chira\\anaconda3\\lib\\site-packages\\seaborn\\_decorators.py:36: FutureWarning: Pass the following variable as a keyword arg: x. From version 0.12, the only valid positional argument will be `data`, and passing other arguments without an explicit keyword will result in an error or misinterpretation.\n",
      "  warnings.warn(\n"
     ]
    },
    {
     "data": {
      "text/plain": [
       "(array([ 0,  1,  2,  3,  4,  5,  6,  7,  8,  9, 10]),\n",
       " [Text(0, 0, '10+ years'),\n",
       "  Text(1, 0, '< 1 year'),\n",
       "  Text(2, 0, '3 years'),\n",
       "  Text(3, 0, '8 years'),\n",
       "  Text(4, 0, '9 years'),\n",
       "  Text(5, 0, '4 years'),\n",
       "  Text(6, 0, '5 years'),\n",
       "  Text(7, 0, '1 year'),\n",
       "  Text(8, 0, '6 years'),\n",
       "  Text(9, 0, '2 years'),\n",
       "  Text(10, 0, '7 years')])"
      ]
     },
     "execution_count": 62,
     "metadata": {},
     "output_type": "execute_result"
    },
    {
     "data": {
      "image/png": "[encoded data removed]",
      "text/plain": [
       "<Figure size 432x288 with 1 Axes>"
      ]
     },
     "metadata": {
      "needs_background": "light"
     },
     "output_type": "display_data"
    }
   ],
   "source": [
    "sns.countplot(lending_set1[\"emp_length\"], hue=lending_set1.loan_status)\n",
    "plt.xlabel(\"Employee working experience\")\n",
    "plt.xticks(rotation=90)"
   ]
  },
  {
   "cell_type": "code",
   "execution_count": 43,
   "id": "7bbc2172",
   "metadata": {},
   "outputs": [
    {
     "data": {
      "text/plain": [
       "<seaborn.axisgrid.FacetGrid at 0x1bb14540730>"
      ]
     },
     "execution_count": 43,
     "metadata": {},
     "output_type": "execute_result"
    },
    {
     "data": {
      "image/png": "[encoded data removed]",
      "text/plain": [
       "<Figure size 360x360 with 1 Axes>"
      ]
     },
     "metadata": {
      "needs_background": "light"
     },
     "output_type": "display_data"
    }
   ],
   "source": [
    "sns.displot(lending_set1.open_acc)\n",
    "\n"
   ]
  },
  {
   "cell_type": "code",
   "execution_count": null,
   "id": "7e9fb07c",
   "metadata": {},
   "outputs": [],
   "source": []
  },
  {
   "cell_type": "code",
   "execution_count": 44,
   "id": "e61fc20a",
   "metadata": {},
   "outputs": [
    {
     "data": {
      "text/plain": [
       "<AxesSubplot:xlabel='grade', ylabel='count'>"
      ]
     },
     "execution_count": 44,
     "metadata": {},
     "output_type": "execute_result"
    },
    {
     "data": {
      "image/png": "[encoded data removed]",
      "text/plain": [
       "<Figure size 432x288 with 1 Axes>"
      ]
     },
     "metadata": {
      "needs_background": "light"
     },
     "output_type": "display_data"
    }
   ],
   "source": [
    "sns.countplot(x=lending_set1[\"grade\"])"
   ]
  },
  {
   "cell_type": "code",
   "execution_count": 45,
   "id": "b20066a6",
   "metadata": {},
   "outputs": [
    {
     "data": {
      "text/plain": [
       "Text(0.5, 0, 'Annual Income of people')"
      ]
     },
     "execution_count": 45,
     "metadata": {},
     "output_type": "execute_result"
    },
    {
     "data": {
      "image/png": "[encoded data removed]",
      "text/plain": [
       "<Figure size 432x288 with 1 Axes>"
      ]
     },
     "metadata": {
      "needs_background": "light"
     },
     "output_type": "display_data"
    }
   ],
   "source": [
    "sns.boxplot(x=lending_set1[\"annual_inc\"])\n",
    "plt.xlabel(\"Annual Income of people\")"
   ]
  },
  {
   "cell_type": "code",
   "execution_count": 46,
   "id": "10e52270",
   "metadata": {},
   "outputs": [
    {
     "data": {
      "text/plain": [
       "<AxesSubplot:xlabel='grade', ylabel='interest_rate'>"
      ]
     },
     "execution_count": 46,
     "metadata": {},
     "output_type": "execute_result"
    },
    {
     "data": {
      "image/png": "[encoded data removed]",
      "text/plain": [
       "<Figure size 432x288 with 1 Axes>"
      ]
     },
     "metadata": {
      "needs_background": "light"
     },
     "output_type": "display_data"
    }
   ],
   "source": [
    "sns.boxplot(y=lending_set1.interest_rate,x=lending_set[\"grade\"])"
   ]
  },
  {
   "cell_type": "code",
   "execution_count": 47,
   "id": "357ee8b5",
   "metadata": {
    "scrolled": true
   },
   "outputs": [
    {
     "data": {
      "text/plain": [
       "(array([ 0,  1,  2,  3,  4,  5,  6,  7,  8,  9, 10, 11, 12, 13]),\n",
       " [Text(0, 0, 'credit_card'),\n",
       "  Text(1, 0, 'car'),\n",
       "  Text(2, 0, 'small_business'),\n",
       "  Text(3, 0, 'other'),\n",
       "  Text(4, 0, 'wedding'),\n",
       "  Text(5, 0, 'debt_consolidation'),\n",
       "  Text(6, 0, 'home_improvement'),\n",
       "  Text(7, 0, 'major_purchase'),\n",
       "  Text(8, 0, 'medical'),\n",
       "  Text(9, 0, 'moving'),\n",
       "  Text(10, 0, 'vacation'),\n",
       "  Text(11, 0, 'house'),\n",
       "  Text(12, 0, 'renewable_energy'),\n",
       "  Text(13, 0, 'educational')])"
      ]
     },
     "execution_count": 47,
     "metadata": {},
     "output_type": "execute_result"
    },
    {
     "data": {
      "image/png": "[encoded data removed]",
      "text/plain": [
       "<Figure size 720x504 with 1 Axes>"
      ]
     },
     "metadata": {
      "needs_background": "light"
     },
     "output_type": "display_data"
    }
   ],
   "source": [
    "\n",
    "plt.figure(figsize=(10,7))\n",
    "sns.countplot(x=lending_set1[\"purpose\"],hue=lending_set[\"loan_status\"])\n",
    "plt.xticks(rotation=90)"
   ]
  },
  {
   "cell_type": "code",
   "execution_count": 48,
   "id": "fc1ac476",
   "metadata": {},
   "outputs": [
    {
     "data": {
      "text/plain": [
       "Text(0.5, 0, 'Number of Term Months')"
      ]
     },
     "execution_count": 48,
     "metadata": {},
     "output_type": "execute_result"
    },
    {
     "data": {
      "image/png": "[encoded data removed]",
      "text/plain": [
       "<Figure size 720x504 with 1 Axes>"
      ]
     },
     "metadata": {
      "needs_background": "light"
     },
     "output_type": "display_data"
    }
   ],
   "source": [
    "plt.figure(figsize=(10,7))\n",
    "sns.countplot(x=lending_set1['term_months'],hue=lending_set1['purpose'])\n",
    "plt.xlabel(\"Number of Term Months\")"
   ]
  },
  {
   "cell_type": "code",
   "execution_count": 49,
   "id": "c10a6788",
   "metadata": {},
   "outputs": [
    {
     "data": {
      "text/plain": [
       "Text(0.5, 0, 'Number of Term Months')"
      ]
     },
     "execution_count": 49,
     "metadata": {},
     "output_type": "execute_result"
    },
    {
     "data": {
      "image/png": "[encoded data removed]",
      "text/plain": [
       "<Figure size 720x504 with 1 Axes>"
      ]
     },
     "metadata": {
      "needs_background": "light"
     },
     "output_type": "display_data"
    }
   ],
   "source": [
    "plt.figure(figsize=(10,7))\n",
    "sns.countplot(x=lending_set1['term_months'],hue=lending_set1['loan_status'])\n",
    "\n",
    "plt.xlabel(\"Number of Term Months\")"
   ]
  },
  {
   "cell_type": "code",
   "execution_count": 50,
   "id": "02cf3aac",
   "metadata": {},
   "outputs": [
    {
     "data": {
      "text/plain": [
       "<seaborn.axisgrid.FacetGrid at 0x1bb149291f0>"
      ]
     },
     "execution_count": 50,
     "metadata": {},
     "output_type": "execute_result"
    },
    {
     "data": {
      "image/png": "[encoded data removed]",
      "text/plain": [
       "<Figure size 360x360 with 1 Axes>"
      ]
     },
     "metadata": {
      "needs_background": "light"
     },
     "output_type": "display_data"
    }
   ],
   "source": [
    "sns.displot(x=lending_set1.term_months,y=lending_set1.interest_rate)\n"
   ]
  },
  {
   "cell_type": "code",
   "execution_count": 51,
   "id": "a58d0fc4",
   "metadata": {},
   "outputs": [
    {
     "data": {
      "text/plain": [
       "<seaborn.axisgrid.FacetGrid at 0x1bb14a8ddc0>"
      ]
     },
     "execution_count": 51,
     "metadata": {},
     "output_type": "execute_result"
    },
    {
     "data": {
      "image/png": "[encoded data removed]",
      "text/plain": [
       "<Figure size 360x360 with 1 Axes>"
      ]
     },
     "metadata": {
      "needs_background": "light"
     },
     "output_type": "display_data"
    }
   ],
   "source": [
    "sns.displot(x=lending_set1.funded_amnt,y=lending_set1.interest_rate)"
   ]
  },
  {
   "cell_type": "code",
   "execution_count": 52,
   "id": "4817912a",
   "metadata": {},
   "outputs": [
    {
     "data": {
      "text/plain": [
       "<AxesSubplot:>"
      ]
     },
     "execution_count": 52,
     "metadata": {},
     "output_type": "execute_result"
    },
    {
     "data": {
      "image/png": "[encoded data removed]",
      "text/plain": [
       "<Figure size 720x720 with 2 Axes>"
      ]
     },
     "metadata": {
      "needs_background": "light"
     },
     "output_type": "display_data"
    }
   ],
   "source": [
    "plt.figure(figsize=(10,10))\n",
    "sns.heatmap(lending_set1.corr())"
   ]
  },
  {
   "cell_type": "code",
   "execution_count": 53,
   "id": "2d073a2d",
   "metadata": {},
   "outputs": [
    {
     "data": {
      "text/plain": [
       "<AxesSubplot:xlabel='loan_status', ylabel='annual_inc'>"
      ]
     },
     "execution_count": 53,
     "metadata": {},
     "output_type": "execute_result"
    },
    {
     "data": {
      "image/png": "[encoded data removed]",
      "text/plain": [
       "<Figure size 1008x864 with 1 Axes>"
      ]
     },
     "metadata": {
      "needs_background": "light"
     },
     "output_type": "display_data"
    }
   ],
   "source": [
    "plt.figure(figsize=(14,12))\n",
    "sns.barplot(x=lending_set1[\"loan_status\"],y=lending_set1[\"annual_inc\"],hue=lending_set1[\"purpose\"])"
   ]
  },
  {
   "cell_type": "code",
   "execution_count": 54,
   "id": "abff9346",
   "metadata": {},
   "outputs": [
    {
     "data": {
      "image/png": "[encoded data removed]",
      "text/plain": [
       "<Figure size 432x288 with 1 Axes>"
      ]
     },
     "metadata": {
      "needs_background": "light"
     },
     "output_type": "display_data"
    }
   ],
   "source": [
    "g = lending_set1.groupby('issue_d')['loan_status'].count()\n",
    "\n",
    "g.plot.line(x_compat=True)\n",
    "plt.title('No of loan granted over the years')\n",
    "plt.xlabel('Loan Issue Year')\n",
    "plt.show()"
   ]
  },
  {
   "cell_type": "code",
   "execution_count": 55,
   "id": "be895923",
   "metadata": {},
   "outputs": [
    {
     "data": {
      "image/png": "[encoded data removed]",
      "text/plain": [
       "<Figure size 720x720 with 1 Axes>"
      ]
     },
     "metadata": {
      "needs_background": "light"
     },
     "output_type": "display_data"
    }
   ],
   "source": [
    "g = lending_set1[lending_set1['loan_status']=='Charged Off'].groupby('addr_state')['loan_status'].count().reset_index()\n",
    "plt.figure(figsize=(10,10))\n",
    "sns.barplot(y='addr_state', x='loan_status', data=g)\n",
    "plt.xlabel('Count of loan status to be defaulter')\n",
    "plt.ylabel('State')\n",
    "plt.show()"
   ]
  },
  {
   "cell_type": "code",
   "execution_count": 56,
   "id": "c3609be1",
   "metadata": {},
   "outputs": [
    {
     "data": {
      "image/png": "[encoded data removed]",
      "text/plain": [
       "<Figure size 432x288 with 1 Axes>"
      ]
     },
     "metadata": {
      "needs_background": "light"
     },
     "output_type": "display_data"
    }
   ],
   "source": [
    "g = lending_set1.groupby('verification_status')['loan_status'].count()\n",
    "\n",
    "g.plot.line(x_compat=True)\n",
    "plt.title('Defaulters vs source verification')\n",
    "plt.xlabel('verification')\n",
    "plt.show()"
   ]
  },
  {
   "cell_type": "code",
   "execution_count": 57,
   "id": "2edd41aa",
   "metadata": {},
   "outputs": [
    {
     "data": {
      "text/plain": [
       "<AxesSubplot:xlabel='home_ownership', ylabel='count'>"
      ]
     },
     "execution_count": 57,
     "metadata": {},
     "output_type": "execute_result"
    },
    {
     "data": {
      "image/png": "[encoded data removed]",
      "text/plain": [
       "<Figure size 432x288 with 1 Axes>"
      ]
     },
     "metadata": {
      "needs_background": "light"
     },
     "output_type": "display_data"
    }
   ],
   "source": [
    "sns.countplot(x=lending_set1['home_ownership'],hue=lending_set1['loan_status'])"
   ]
  },
  {
   "cell_type": "code",
   "execution_count": 58,
   "id": "77fa3f1d",
   "metadata": {},
   "outputs": [
    {
     "data": {
      "text/plain": [
       "<AxesSubplot:xlabel='verification_status', ylabel='count'>"
      ]
     },
     "execution_count": 58,
     "metadata": {},
     "output_type": "execute_result"
    },
    {
     "data": {
      "image/png": "[encoded data removed]",
      "text/plain": [
       "<Figure size 432x288 with 1 Axes>"
      ]
     },
     "metadata": {
      "needs_background": "light"
     },
     "output_type": "display_data"
    }
   ],
   "source": [
    "sns.countplot(x=lending_set1['verification_status'],hue=lending_set1['loan_status'])"
   ]
  },
  {
   "cell_type": "code",
   "execution_count": 59,
   "id": "7e98c000",
   "metadata": {},
   "outputs": [
    {
     "data": {
      "text/plain": [
       "<seaborn.axisgrid.FacetGrid at 0x1bb1890f7f0>"
      ]
     },
     "execution_count": 59,
     "metadata": {},
     "output_type": "execute_result"
    },
    {
     "data": {
      "image/png": "[encoded data removed]",
      "text/plain": [
       "<Figure size 360x360 with 1 Axes>"
      ]
     },
     "metadata": {
      "needs_background": "light"
     },
     "output_type": "display_data"
    }
   ],
   "source": [
    "sns.displot(y=lending_set1[\"funded_amnt\"],x=lending_set1.loan_status)"
   ]
  },
  {
   "cell_type": "code",
   "execution_count": 61,
   "id": "71b27f60",
   "metadata": {},
   "outputs": [
    {
     "ename": "NameError",
     "evalue": "name 'numeric_data' is not defined",
     "output_type": "error",
     "traceback": [
      "\u001b[1;31m---------------------------------------------------------------------------\u001b[0m",
      "\u001b[1;31mNameError\u001b[0m                                 Traceback (most recent call last)",
      "\u001b[1;32m~\\AppData\\Local\\Temp/ipykernel_12392/3644679866.py\u001b[0m in \u001b[0;36m<module>\u001b[1;34m\u001b[0m\n\u001b[0;32m      2\u001b[0m \u001b[1;33m\u001b[0m\u001b[0m\n\u001b[0;32m      3\u001b[0m \u001b[1;33m\u001b[0m\u001b[0m\n\u001b[1;32m----> 4\u001b[1;33m \u001b[1;32mfor\u001b[0m \u001b[0mi\u001b[0m \u001b[1;32min\u001b[0m \u001b[0mrange\u001b[0m\u001b[1;33m(\u001b[0m\u001b[0mlen\u001b[0m\u001b[1;33m(\u001b[0m\u001b[0mnumeric_data\u001b[0m\u001b[1;33m.\u001b[0m\u001b[0mcolumns\u001b[0m\u001b[1;33m)\u001b[0m\u001b[1;33m)\u001b[0m\u001b[1;33m:\u001b[0m\u001b[1;33m\u001b[0m\u001b[1;33m\u001b[0m\u001b[0m\n\u001b[0m\u001b[0;32m      5\u001b[0m     \u001b[0mplt\u001b[0m\u001b[1;33m.\u001b[0m\u001b[0msubplot\u001b[0m\u001b[1;33m(\u001b[0m\u001b[1;36m8\u001b[0m\u001b[1;33m,\u001b[0m\u001b[1;36m3\u001b[0m\u001b[1;33m,\u001b[0m \u001b[0mi\u001b[0m \u001b[1;33m+\u001b[0m \u001b[1;36m1\u001b[0m\u001b[1;33m)\u001b[0m\u001b[1;33m\u001b[0m\u001b[1;33m\u001b[0m\u001b[0m\n\u001b[0;32m      6\u001b[0m     \u001b[0msns\u001b[0m\u001b[1;33m.\u001b[0m\u001b[0mboxplot\u001b[0m\u001b[1;33m(\u001b[0m\u001b[0my\u001b[0m\u001b[1;33m=\u001b[0m\u001b[0mnumeric_data\u001b[0m\u001b[1;33m.\u001b[0m\u001b[0mcolumns\u001b[0m\u001b[1;33m[\u001b[0m\u001b[0mi\u001b[0m\u001b[1;33m]\u001b[0m\u001b[1;33m,\u001b[0m \u001b[0mx\u001b[0m\u001b[1;33m=\u001b[0m\u001b[1;34m'loan_status'\u001b[0m\u001b[1;33m,\u001b[0m \u001b[0mdata\u001b[0m\u001b[1;33m=\u001b[0m\u001b[0mlending_set1\u001b[0m\u001b[1;33m)\u001b[0m\u001b[1;33m\u001b[0m\u001b[1;33m\u001b[0m\u001b[0m\n",
      "\u001b[1;31mNameError\u001b[0m: name 'numeric_data' is not defined"
     ]
    },
    {
     "data": {
      "text/plain": [
       "<Figure size 1080x2880 with 0 Axes>"
      ]
     },
     "metadata": {},
     "output_type": "display_data"
    }
   ],
   "source": [
    "plt.figure(figsize=(15,40))\n",
    "\n",
    "\n",
    "    for i in range(len(numeric_data.columns)):\n",
    "    plt.subplot(8,3, i + 1)\n",
    "    sns.boxplot(y=numeric_data.columns[i], x='loan_status', data=lending_set1)\n",
    "\n",
    "plt.show()"
   ]
  },
  {
   "cell_type": "code",
   "execution_count": null,
   "id": "d2bfbe17",
   "metadata": {},
   "outputs": [],
   "source": []
  }
 ],
 "metadata": {
  "kernelspec": {
   "display_name": "Python 3 (ipykernel)",
   "language": "python",
   "name": "python3"
  },
  "language_info": {
   "codemirror_mode": {
    "name": "ipython",
    "version": 3
   },
   "file_extension": ".py",
   "mimetype": "text/x-python",
   "name": "python",
   "nbconvert_exporter": "python",
   "pygments_lexer": "ipython3",
   "version": "3.9.7"
  }
 },
 "nbformat": 4,
 "nbformat_minor": 5
}
